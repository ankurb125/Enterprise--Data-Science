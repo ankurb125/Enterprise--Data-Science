{
 "cells": [
  {
   "cell_type": "code",
   "execution_count": 373,
   "metadata": {},
   "outputs": [],
   "source": [
    "import pandas as pd\n",
    "import numpy as np\n",
    "\n",
    "from datetime import datetime\n",
    "import pandas as pd \n",
    "\n",
    "from scipy import optimize\n",
    "from scipy import integrate\n",
    "\n",
    "%matplotlib inline\n",
    "import matplotlib as mpl\n",
    "import matplotlib.pyplot as plt\n",
    "\n",
    "import seaborn as sns\n",
    "import dash\n",
    "import dash_core_components as dcc\n",
    "import dash_html_components as html\n",
    "from plotly.subplots import make_subplots\n",
    "\n",
    "\n",
    "sns.set(style=\"darkgrid\")\n",
    "\n",
    "mpl.rcParams['figure.figsize'] = (16, 9)\n",
    "pd.set_option('display.max_rows', 500)\n",
    "\n",
    "\n"
   ]
  },
  {
   "cell_type": "markdown",
   "metadata": {},
   "source": [
    "# Data set cleaned for Covid-19 modelling\n",
    "\n",
    "the file COVED_small_flat_table has to be generated via the NOTEBOOK DATA PREPARATION\n",
    "\n",
    "Goal of the exercise a dynamic dashboard of the last cell in the notebook, where one can select the fit for different countries\n",
    "\n",
    "Fit of SIR model for Germany cases\n"
   ]
  },
  {
   "cell_type": "code",
   "execution_count": 374,
   "metadata": {},
   "outputs": [
    {
     "data": {
      "text/html": [
       "<div>\n",
       "<style scoped>\n",
       "    .dataframe tbody tr th:only-of-type {\n",
       "        vertical-align: middle;\n",
       "    }\n",
       "\n",
       "    .dataframe tbody tr th {\n",
       "        vertical-align: top;\n",
       "    }\n",
       "\n",
       "    .dataframe thead th {\n",
       "        text-align: right;\n",
       "    }\n",
       "</style>\n",
       "<table border=\"1\" class=\"dataframe\">\n",
       "  <thead>\n",
       "    <tr style=\"text-align: right;\">\n",
       "      <th></th>\n",
       "      <th>Unnamed: 0</th>\n",
       "      <th>date</th>\n",
       "      <th>India</th>\n",
       "      <th>Japan</th>\n",
       "      <th>Hungary</th>\n",
       "      <th>Germany</th>\n",
       "      <th>US</th>\n",
       "    </tr>\n",
       "  </thead>\n",
       "  <tbody>\n",
       "    <tr>\n",
       "      <th>0</th>\n",
       "      <td>0</td>\n",
       "      <td>2020-01-22</td>\n",
       "      <td>0</td>\n",
       "      <td>2</td>\n",
       "      <td>0</td>\n",
       "      <td>0</td>\n",
       "      <td>1</td>\n",
       "    </tr>\n",
       "    <tr>\n",
       "      <th>1</th>\n",
       "      <td>1</td>\n",
       "      <td>2020-01-23</td>\n",
       "      <td>0</td>\n",
       "      <td>2</td>\n",
       "      <td>0</td>\n",
       "      <td>0</td>\n",
       "      <td>1</td>\n",
       "    </tr>\n",
       "    <tr>\n",
       "      <th>2</th>\n",
       "      <td>2</td>\n",
       "      <td>2020-01-24</td>\n",
       "      <td>0</td>\n",
       "      <td>2</td>\n",
       "      <td>0</td>\n",
       "      <td>0</td>\n",
       "      <td>2</td>\n",
       "    </tr>\n",
       "    <tr>\n",
       "      <th>3</th>\n",
       "      <td>3</td>\n",
       "      <td>2020-01-25</td>\n",
       "      <td>0</td>\n",
       "      <td>2</td>\n",
       "      <td>0</td>\n",
       "      <td>0</td>\n",
       "      <td>2</td>\n",
       "    </tr>\n",
       "    <tr>\n",
       "      <th>4</th>\n",
       "      <td>4</td>\n",
       "      <td>2020-01-26</td>\n",
       "      <td>0</td>\n",
       "      <td>4</td>\n",
       "      <td>0</td>\n",
       "      <td>0</td>\n",
       "      <td>5</td>\n",
       "    </tr>\n",
       "    <tr>\n",
       "      <th>...</th>\n",
       "      <td>...</td>\n",
       "      <td>...</td>\n",
       "      <td>...</td>\n",
       "      <td>...</td>\n",
       "      <td>...</td>\n",
       "      <td>...</td>\n",
       "      <td>...</td>\n",
       "    </tr>\n",
       "    <tr>\n",
       "      <th>867</th>\n",
       "      <td>867</td>\n",
       "      <td>2022-06-07</td>\n",
       "      <td>43190282</td>\n",
       "      <td>8960177</td>\n",
       "      <td>1919840</td>\n",
       "      <td>26583016</td>\n",
       "      <td>85003945</td>\n",
       "    </tr>\n",
       "    <tr>\n",
       "      <th>868</th>\n",
       "      <td>868</td>\n",
       "      <td>2022-06-08</td>\n",
       "      <td>43197522</td>\n",
       "      <td>8978571</td>\n",
       "      <td>1921486</td>\n",
       "      <td>26660652</td>\n",
       "      <td>85214036</td>\n",
       "    </tr>\n",
       "    <tr>\n",
       "      <th>869</th>\n",
       "      <td>869</td>\n",
       "      <td>2022-06-09</td>\n",
       "      <td>43205106</td>\n",
       "      <td>8995359</td>\n",
       "      <td>1921486</td>\n",
       "      <td>26738530</td>\n",
       "      <td>85329656</td>\n",
       "    </tr>\n",
       "    <tr>\n",
       "      <th>870</th>\n",
       "      <td>870</td>\n",
       "      <td>2022-06-10</td>\n",
       "      <td>43213435</td>\n",
       "      <td>9010943</td>\n",
       "      <td>1921486</td>\n",
       "      <td>26803867</td>\n",
       "      <td>85468816</td>\n",
       "    </tr>\n",
       "    <tr>\n",
       "      <th>871</th>\n",
       "      <td>871</td>\n",
       "      <td>2022-06-11</td>\n",
       "      <td>43222017</td>\n",
       "      <td>9026281</td>\n",
       "      <td>1921486</td>\n",
       "      <td>26803867</td>\n",
       "      <td>85500976</td>\n",
       "    </tr>\n",
       "  </tbody>\n",
       "</table>\n",
       "<p>872 rows × 7 columns</p>\n",
       "</div>"
      ],
      "text/plain": [
       "     Unnamed: 0        date     India    Japan  Hungary   Germany        US\n",
       "0             0  2020-01-22         0        2        0         0         1\n",
       "1             1  2020-01-23         0        2        0         0         1\n",
       "2             2  2020-01-24         0        2        0         0         2\n",
       "3             3  2020-01-25         0        2        0         0         2\n",
       "4             4  2020-01-26         0        4        0         0         5\n",
       "..          ...         ...       ...      ...      ...       ...       ...\n",
       "867         867  2022-06-07  43190282  8960177  1919840  26583016  85003945\n",
       "868         868  2022-06-08  43197522  8978571  1921486  26660652  85214036\n",
       "869         869  2022-06-09  43205106  8995359  1921486  26738530  85329656\n",
       "870         870  2022-06-10  43213435  9010943  1921486  26803867  85468816\n",
       "871         871  2022-06-11  43222017  9026281  1921486  26803867  85500976\n",
       "\n",
       "[872 rows x 7 columns]"
      ]
     },
     "execution_count": 374,
     "metadata": {},
     "output_type": "execute_result"
    }
   ],
   "source": [
    "# try to parse the dates right at the beginning \n",
    "# it works out of the box if the date was stored ISO YYYY-MM-DD format\n",
    "\n",
    "\n",
    "df_analyse=pd.read_csv('../data/processed/COVID_small_flat_table.csv',sep=';')\n",
    "df_analyse.sort_values('date',ascending=True)"
   ]
  },
  {
   "cell_type": "code",
   "execution_count": 375,
   "metadata": {},
   "outputs": [],
   "source": [
    "## Nice mathematical explanation of the differential SIR \n",
    "# https://www.youtube.com/watch?v=NKMHhm2Zbkw"
   ]
  },
  {
   "cell_type": "code",
   "execution_count": 376,
   "metadata": {},
   "outputs": [],
   "source": [
    "# set some basic parameters\n",
    "# beta/gamma is denoted as  'basic reproduction number'\n",
    "\n",
    "N0=1000000 #max susceptible population\n",
    "beta=0.4   # infection spread dynamics\n",
    "gamma=0.1  # recovery rate\n",
    "\n",
    "## beta/gamma is the basic reproduction number, <1 means no spread virus\n",
    "\n",
    "\n",
    "# condition I0+S0+R0=N0\n",
    "# I0=df_analyse.Germany[35]\n",
    "I0=df_analyse.India[35]\n",
    "S0=N0-I0\n",
    "R0=0"
   ]
  },
  {
   "cell_type": "code",
   "execution_count": 377,
   "metadata": {},
   "outputs": [],
   "source": [
    "def SIR_model(SIR,beta,gamma):\n",
    "    ''' Simple SIR model\n",
    "        S: susceptible population\n",
    "        I: infected people\n",
    "        R: recovered people\n",
    "        beta: \n",
    "        \n",
    "        overall condition is that the sum of changes (differnces) sum up to 0\n",
    "        dS+dI+dR=0\n",
    "        S+I+R= N (constant size of population)\n",
    "    \n",
    "    '''\n",
    "    \n",
    "    S,I,R=SIR\n",
    "    dS_dt=-beta*S*I/N0          #S*I is the \n",
    "    dI_dt=beta*S*I/N0-gamma*I\n",
    "    dR_dt=gamma*I\n",
    "    return([dS_dt,dI_dt,dR_dt])\n"
   ]
  },
  {
   "cell_type": "markdown",
   "metadata": {},
   "source": [
    "# Simulative approach to calculate SIR curves"
   ]
  },
  {
   "cell_type": "code",
   "execution_count": 378,
   "metadata": {},
   "outputs": [],
   "source": [
    "\n",
    "SIR=np.array([S0,I0,R0])\n",
    "propagation_rates=pd.DataFrame(columns={'susceptible':S0,\n",
    "                                        'infected':I0,\n",
    "                                        'recoverd':R0})\n",
    "\n",
    "\n",
    "\n",
    "for each_t in np.arange(100):\n",
    "   \n",
    "    new_delta_vec=SIR_model(SIR,beta,gamma)\n",
    "   \n",
    "    SIR=SIR+new_delta_vec\n",
    "    \n",
    "    propagation_rates=propagation_rates.append({'susceptible':SIR[0],\n",
    "                                                'infected':SIR[1],\n",
    "                                                'recovered':SIR[2]}, ignore_index=True)\n"
   ]
  },
  {
   "cell_type": "code",
   "execution_count": 379,
   "metadata": {},
   "outputs": [
    {
     "data": {
      "image/png": "[encoded data removed]",
      "text/plain": [
       "<Figure size 1152x648 with 1 Axes>"
      ]
     },
     "metadata": {},
     "output_type": "display_data"
    }
   ],
   "source": [
    "fig, ax1 = plt.subplots(1, 1)\n",
    "\n",
    "ax1.plot(propagation_rates.index,propagation_rates.infected,label='infected',color='k')\n",
    "ax1.plot(propagation_rates.index,propagation_rates.recovered,label='recovered')\n",
    "ax1.plot(propagation_rates.index,propagation_rates.susceptible,label='susceptible')\n",
    "\n",
    "ax1.set_ylim(10, 1000000)\n",
    "ax1.set_yscale('linear')\n",
    "ax1.set_title('Szenario SIR simulations  (demonstration purposes only)',size=16)\n",
    "ax1.set_xlabel('time in days',size=16)\n",
    "ax1.legend(loc='best',\n",
    "           prop={'size': 16});"
   ]
  },
  {
   "cell_type": "markdown",
   "metadata": {},
   "source": [
    "# Fitting data to a model\n",
    "\n",
    "## step one: always start on simulative / constructive data\n",
    "\n",
    "Goal is to fit a data model (SIR) model to obtain the parameters\n",
    "beta and gamma\n",
    "\n",
    "step one: always start on simulative / constructive data\n",
    "step two: cross check if the innerlogic of your parameter fitting is correct"
   ]
  },
  {
   "cell_type": "code",
   "execution_count": 380,
   "metadata": {},
   "outputs": [],
   "source": [
    "def SIR_model_t(SIR,t,beta,gamma):\n",
    "    ''' Simple SIR model\n",
    "        S: susceptible population\n",
    "        t: time step, mandatory for integral.odeint\n",
    "        I: infected people\n",
    "        R: recovered people\n",
    "        beta: \n",
    "        \n",
    "        overall condition is that the sum of changes (differnces) sum up to 0\n",
    "        dS+dI+dR=0\n",
    "        S+I+R= N (constant size of population)\n",
    "    \n",
    "    '''\n",
    "    \n",
    "    S,I,R=SIR\n",
    "    dS_dt=-beta*S*I/N0          #S*I is the \n",
    "    dI_dt=beta*S*I/N0-gamma*I\n",
    "    dR_dt=gamma*I\n",
    "    return dS_dt,dI_dt,dR_dt"
   ]
  },
  {
   "cell_type": "code",
   "execution_count": 381,
   "metadata": {},
   "outputs": [],
   "source": [
    "# the resulting curve has to be fitted\n",
    "# free parameters are here beta and gamma\n",
    "\n",
    "def fit_odeint(x, beta, gamma):\n",
    "    '''\n",
    "    helper function for the integration\n",
    "    '''\n",
    "    return integrate.odeint(SIR_model_t, (S0, I0, R0), t, args=(beta, gamma))[:,1] # we only would like to get dI"
   ]
  },
  {
   "cell_type": "code",
   "execution_count": 382,
   "metadata": {},
   "outputs": [],
   "source": [
    "## fit the data set ydata, here the simulative data set of the infected curve\n",
    "\n",
    "ydata = propagation_rates.infected\n",
    "t=np.arange(len(ydata))"
   ]
  },
  {
   "cell_type": "code",
   "execution_count": 383,
   "metadata": {},
   "outputs": [],
   "source": [
    "#ydata"
   ]
  },
  {
   "cell_type": "code",
   "execution_count": 384,
   "metadata": {},
   "outputs": [
    {
     "name": "stderr",
     "output_type": "stream",
     "text": [
      "C:\\Users\\ankur\\anaconda3\\lib\\site-packages\\scipy\\integrate\\odepack.py:247: ODEintWarning:\n",
      "\n",
      "Excess work done on this call (perhaps wrong Dfun type). Run with full_output = 1 to get quantitative information.\n",
      "\n",
      "<ipython-input-380-16f200073f8a>:16: RuntimeWarning:\n",
      "\n",
      "overflow encountered in double_scalars\n",
      "\n",
      "<ipython-input-380-16f200073f8a>:17: RuntimeWarning:\n",
      "\n",
      "overflow encountered in double_scalars\n",
      "\n",
      "C:\\Users\\ankur\\anaconda3\\lib\\site-packages\\scipy\\integrate\\odepack.py:247: ODEintWarning:\n",
      "\n",
      "Illegal input detected (internal error). Run with full_output = 1 to get quantitative information.\n",
      "\n"
     ]
    },
    {
     "name": "stdout",
     "output_type": "stream",
     "text": [
      "standard deviation errors :  [0.00083796 0.00077913]  start infect: 3.8999964\n",
      "Optimal parameters: beta = 0.37067027489274473  and gamma =  0.09599216307026893\n"
     ]
    }
   ],
   "source": [
    "popt, pcov = optimize.curve_fit(fit_odeint, t, ydata)\n",
    "perr = np.sqrt(np.diag(pcov))\n",
    "    \n",
    "print('standard deviation errors : ',str(perr), ' start infect:',ydata[0])\n",
    "print(\"Optimal parameters: beta =\", popt[0], \" and gamma = \", popt[1])\n",
    "\n"
   ]
  },
  {
   "cell_type": "code",
   "execution_count": 385,
   "metadata": {},
   "outputs": [],
   "source": [
    "# get the final fitted curve\n",
    "fitted=fit_odeint(t, *popt)"
   ]
  },
  {
   "cell_type": "code",
   "execution_count": 386,
   "metadata": {},
   "outputs": [
    {
     "data": {
      "image/png": "[encoded data removed]",
      "text/plain": [
       "<Figure size 1152x648 with 1 Axes>"
      ]
     },
     "metadata": {},
     "output_type": "display_data"
    },
    {
     "name": "stdout",
     "output_type": "stream",
     "text": [
      "Optimal parameters: beta = 0.37067027489274473  and gamma =  0.09599216307026893\n",
      "Basic Reproduction Number R0  3.8614639261895136\n",
      "This ratio is derived as the expected number of new infections (these new infections are sometimes called secondary infections from a single infection in a population where all subjects are susceptible. @wiki\n"
     ]
    }
   ],
   "source": [
    "plt.semilogy(t, ydata, 'o')\n",
    "plt.semilogy(t, fitted)\n",
    "#plt.semilogy(fitted)\n",
    "\n",
    "# plt.title(\"Fit of SIR model for Germany cases\")\n",
    "plt.title(\"Fit of SIR model for India cases\")\n",
    "plt.ylabel(\"Total Population infected\")\n",
    "plt.xlabel(\"Days\")\n",
    "plt.show()\n",
    "print(\"Optimal parameters: beta =\", popt[0], \" and gamma = \", popt[1])\n",
    "print(\"Basic Reproduction Number R0 \" , popt[0]/ popt[1])\n",
    "print(\"This ratio is derived as the expected number of new infections (these new infections are sometimes called secondary infections from a single infection in a population where all subjects are susceptible. @wiki\")"
   ]
  },
  {
   "cell_type": "markdown",
   "metadata": {},
   "source": []
  },
  {
   "cell_type": "code",
   "execution_count": null,
   "metadata": {},
   "outputs": [],
   "source": []
  },
  {
   "cell_type": "markdown",
   "metadata": {},
   "source": [
    "# Fitting the parameters of SIR model\n",
    "the SIR model is assuming a very simplistic curve\n",
    "however we can find situations (time windows) where the model might apply"
   ]
  },
  {
   "cell_type": "code",
   "execution_count": null,
   "metadata": {},
   "outputs": [],
   "source": []
  },
  {
   "cell_type": "code",
   "execution_count": 412,
   "metadata": {},
   "outputs": [],
   "source": [
    "## slice out some true data of a country\n",
    "\n",
    "ydata = np.array(df_analyse.India[40:200])\n",
    "t=np.arange(len(ydata))"
   ]
  },
  {
   "cell_type": "code",
   "execution_count": 413,
   "metadata": {},
   "outputs": [
    {
     "name": "stdout",
     "output_type": "stream",
     "text": [
      "start infected: 5\n",
      "cumulative sum of invected after period 2153010\n",
      "Number of days 160\n",
      "N0 1300000000\n"
     ]
    }
   ],
   "source": [
    "# ensure re-initialization \n",
    "# attenion when slicing gout only a time window \n",
    "# (one Corana wave) the overall N0 is not the full popoulation size \n",
    "N0=1300000000\n",
    "\n",
    "I0=ydata[0]\n",
    "S0=N0-I0\n",
    "R0=0\n",
    "print('start infected:',I0)\n",
    "print('cumulative sum of invected after period',ydata[-1])\n",
    "print('Number of days',len(ydata))\n",
    "print('N0',N0)"
   ]
  },
  {
   "cell_type": "code",
   "execution_count": 414,
   "metadata": {},
   "outputs": [
    {
     "name": "stdout",
     "output_type": "stream",
     "text": [
      "standard deviation errors :  [0.02424527 0.02405177]  start infect: 5\n",
      "Optimal parameters: beta = 1.7453572418843177  and gamma =  1.6528314470917542\n"
     ]
    },
    {
     "name": "stderr",
     "output_type": "stream",
     "text": [
      "C:\\Users\\ankur\\anaconda3\\lib\\site-packages\\scipy\\integrate\\odepack.py:247: ODEintWarning:\n",
      "\n",
      "Excess work done on this call (perhaps wrong Dfun type). Run with full_output = 1 to get quantitative information.\n",
      "\n",
      "<ipython-input-393-16f200073f8a>:16: RuntimeWarning:\n",
      "\n",
      "overflow encountered in double_scalars\n",
      "\n",
      "<ipython-input-393-16f200073f8a>:17: RuntimeWarning:\n",
      "\n",
      "overflow encountered in double_scalars\n",
      "\n",
      "<ipython-input-393-16f200073f8a>:18: RuntimeWarning:\n",
      "\n",
      "overflow encountered in double_scalars\n",
      "\n",
      "C:\\Users\\ankur\\anaconda3\\lib\\site-packages\\scipy\\integrate\\odepack.py:247: ODEintWarning:\n",
      "\n",
      "Illegal input detected (internal error). Run with full_output = 1 to get quantitative information.\n",
      "\n"
     ]
    }
   ],
   "source": [
    "\n",
    "## get the model parameters / fit the model\n",
    "popt, pcov = optimize.curve_fit(fit_odeint, t, ydata)\n",
    "perr = np.sqrt(np.diag(pcov))\n",
    "    \n",
    "print('standard deviation errors : ',str(perr), ' start infect:',ydata[0])\n",
    "print(\"Optimal parameters: beta =\", popt[0], \" and gamma = \", popt[1])\n",
    "\n",
    "# get the final fitted curve / predict the outcome \n",
    "fitted=fit_odeint(t, *popt)"
   ]
  },
  {
   "cell_type": "code",
   "execution_count": 415,
   "metadata": {},
   "outputs": [
    {
     "data": {
      "image/png": "[encoded data removed]",
      "text/plain": [
       "<Figure size 1152x648 with 1 Axes>"
      ]
     },
     "metadata": {},
     "output_type": "display_data"
    },
    {
     "name": "stdout",
     "output_type": "stream",
     "text": [
      "Optimal parameters: beta = 1.7453572418843177  and gamma =  1.6528314470917542\n",
      "Basic Reproduction Number R0  1.0559801756890381\n",
      "This ratio is derived as the expected number of new infections (these new infections are sometimes called secondary infections from a single infection in a population where all subjects are susceptible. @wiki\n"
     ]
    }
   ],
   "source": [
    "# option 1: ydata is cummulative, thus we need cumulative fitted line\n",
    "#plt.semilogy(t, ydata, 'o') \n",
    "#plt.semilogy(t, np.cumsum(fitted))\n",
    "\n",
    "# option2: ydata is cummulative, however we would like to have the day to day difference\n",
    "plt.semilogy(t,np.ediff1d(ydata, to_begin=ydata[1]-ydata[0]), 'o')\n",
    "plt.semilogy(t, fitted)\n",
    "\n",
    "plt.title(\"Fit of SIR model for India cases\")\n",
    "plt.ylabel(\"New Population infected\")\n",
    "plt.xlabel(\"Days\")\n",
    "plt.show()\n",
    "print(\"Optimal parameters: beta =\", popt[0], \" and gamma = \", popt[1])\n",
    "print(\"Basic Reproduction Number R0 \" , popt[0]/ popt[1])\n",
    "print(\"This ratio is derived as the expected number of new infections (these new infections are sometimes called secondary infections from a single infection in a population where all subjects are susceptible. @wiki\")"
   ]
  },
  {
   "cell_type": "code",
   "execution_count": 416,
   "metadata": {
    "scrolled": true
   },
   "outputs": [],
   "source": [
    "df_india = pd.DataFrame([])\n",
    "df_india['india_x'] = t\n",
    "df_india['india_y']= np.ediff1d(ydata, to_begin=ydata[1]-ydata[0])\n",
    "df_india['india_fit_x'] = t\n",
    "df_india['india_fit_y'] = fitted\n"
   ]
  },
  {
   "cell_type": "markdown",
   "metadata": {},
   "source": [
    "# Japan"
   ]
  },
  {
   "cell_type": "code",
   "execution_count": 417,
   "metadata": {},
   "outputs": [
    {
     "name": "stdout",
     "output_type": "stream",
     "text": [
      "192\n"
     ]
    }
   ],
   "source": [
    "N0=1000000 #max susceptible population\n",
    "beta=0.4   # infection spread dynamics\n",
    "gamma=0.1  # recovery rate\n",
    "\n",
    "## beta/gamma is the basic reproduction number, <1 means no spread virus\n",
    "\n",
    "\n",
    "# condition I0+S0+R0=N0\n",
    "I0=df_analyse.Japan[35]\n",
    "S0=N0-I0\n",
    "R0=0\n",
    "print(I0)"
   ]
  },
  {
   "cell_type": "code",
   "execution_count": 418,
   "metadata": {},
   "outputs": [],
   "source": [
    "def SIR_model(SIR,beta,gamma):\n",
    "    ''' Simple SIR model\n",
    "        S: susceptible population\n",
    "        I: infected people\n",
    "        R: recovered people\n",
    "        beta: \n",
    "        \n",
    "        overall condition is that the sum of changes (differnces) sum up to 0\n",
    "        dS+dI+dR=0\n",
    "        S+I+R= N (constant size of population)\n",
    "    \n",
    "    '''\n",
    "    \n",
    "    S,I,R=SIR\n",
    "    dS_dt=-beta*S*I/N0          #S*I is the \n",
    "    dI_dt=beta*S*I/N0-gamma*I\n",
    "    dR_dt=gamma*I\n",
    "    return([dS_dt,dI_dt,dR_dt])\n"
   ]
  },
  {
   "cell_type": "code",
   "execution_count": 419,
   "metadata": {},
   "outputs": [],
   "source": [
    "\n",
    "SIR=np.array([S0,I0,R0])\n",
    "propagation_rates=pd.DataFrame(columns={'susceptible':S0,\n",
    "                                        'infected':I0,\n",
    "                                        'recoverd':R0})\n",
    "\n",
    "\n",
    "\n",
    "for each_t in np.arange(100):\n",
    "   \n",
    "    new_delta_vec=SIR_model(SIR,beta,gamma)\n",
    "   \n",
    "    SIR=SIR+new_delta_vec\n",
    "    \n",
    "    propagation_rates=propagation_rates.append({'susceptible':SIR[0],\n",
    "                                                'infected':SIR[1],\n",
    "                                                'recovered':SIR[2]}, ignore_index=True)\n"
   ]
  },
  {
   "cell_type": "code",
   "execution_count": 420,
   "metadata": {},
   "outputs": [],
   "source": [
    "def SIR_model_t(SIR,t,beta,gamma):\n",
    "    ''' Simple SIR model\n",
    "        S: susceptible population\n",
    "        t: time step, mandatory for integral.odeint\n",
    "        I: infected people\n",
    "        R: recovered people\n",
    "        beta: \n",
    "        \n",
    "        overall condition is that the sum of changes (differnces) sum up to 0\n",
    "        dS+dI+dR=0\n",
    "        S+I+R= N (constant size of population)\n",
    "    \n",
    "    '''\n",
    "    \n",
    "    S,I,R=SIR\n",
    "    dS_dt=-beta*S*I/N0          #S*I is the \n",
    "    dI_dt=beta*S*I/N0-gamma*I\n",
    "    dR_dt=gamma*I\n",
    "    return dS_dt,dI_dt,dR_dt"
   ]
  },
  {
   "cell_type": "code",
   "execution_count": 421,
   "metadata": {},
   "outputs": [],
   "source": [
    "# the resulting curve has to be fitted\n",
    "# free parameters are here beta and gamma\n",
    "\n",
    "def fit_odeint(x, beta, gamma):\n",
    "    '''\n",
    "    helper function for the integration\n",
    "    '''\n",
    "    return integrate.odeint(SIR_model_t, (S0, I0, R0), t, args=(beta, gamma))[:,1] # we only would like to get dI"
   ]
  },
  {
   "cell_type": "code",
   "execution_count": 422,
   "metadata": {},
   "outputs": [],
   "source": [
    "ydata = propagation_rates.infected\n",
    "t=np.arange(len(ydata))"
   ]
  },
  {
   "cell_type": "code",
   "execution_count": 423,
   "metadata": {},
   "outputs": [
    {
     "name": "stdout",
     "output_type": "stream",
     "text": [
      "standard deviation errors :  [0.00093375 0.00067529]  start infect: 249.5852544\n",
      "Optimal parameters: beta = 0.3780904555636843  and gamma =  0.0965436832711159\n"
     ]
    },
    {
     "name": "stderr",
     "output_type": "stream",
     "text": [
      "<ipython-input-420-16f200073f8a>:16: RuntimeWarning:\n",
      "\n",
      "overflow encountered in double_scalars\n",
      "\n",
      "<ipython-input-420-16f200073f8a>:17: RuntimeWarning:\n",
      "\n",
      "overflow encountered in double_scalars\n",
      "\n",
      "C:\\Users\\ankur\\anaconda3\\lib\\site-packages\\scipy\\integrate\\odepack.py:247: ODEintWarning:\n",
      "\n",
      "Illegal input detected (internal error). Run with full_output = 1 to get quantitative information.\n",
      "\n"
     ]
    }
   ],
   "source": [
    "popt, pcov = optimize.curve_fit(fit_odeint, t, ydata)\n",
    "perr = np.sqrt(np.diag(pcov))\n",
    "    \n",
    "print('standard deviation errors : ',str(perr), ' start infect:',ydata[0])\n",
    "print(\"Optimal parameters: beta =\", popt[0], \" and gamma = \", popt[1])\n"
   ]
  },
  {
   "cell_type": "code",
   "execution_count": 424,
   "metadata": {},
   "outputs": [],
   "source": [
    "# get the final fitted curve\n",
    "fitted=fit_odeint(t, *popt)"
   ]
  },
  {
   "cell_type": "code",
   "execution_count": 425,
   "metadata": {},
   "outputs": [
    {
     "data": {
      "image/png": "[encoded data removed]",
      "text/plain": [
       "<Figure size 1152x648 with 1 Axes>"
      ]
     },
     "metadata": {},
     "output_type": "display_data"
    },
    {
     "name": "stdout",
     "output_type": "stream",
     "text": [
      "Optimal parameters: beta = 0.3780904555636843  and gamma =  0.0965436832711159\n",
      "Basic Reproduction Number R0  3.9162630091698816\n",
      "This ratio is derived as the expected number of new infections (these new infections are sometimes called secondary infections from a single infection in a population where all subjects are susceptible. @wiki\n"
     ]
    }
   ],
   "source": [
    "plt.semilogy(t, ydata, 'o')\n",
    "plt.semilogy(t, fitted)\n",
    "#plt.semilogy(fitted)\n",
    "\n",
    "plt.title(\"Fit of SIR model for Japan cases\")\n",
    "plt.ylabel(\"Total Population infected\")\n",
    "plt.xlabel(\"Days\")\n",
    "plt.show()\n",
    "print(\"Optimal parameters: beta =\", popt[0], \" and gamma = \", popt[1])\n",
    "print(\"Basic Reproduction Number R0 \" , popt[0]/ popt[1])\n",
    "print(\"This ratio is derived as the expected number of new infections (these new infections are sometimes called secondary infections from a single infection in a population where all subjects are susceptible. @wiki\")"
   ]
  },
  {
   "cell_type": "code",
   "execution_count": 427,
   "metadata": {},
   "outputs": [],
   "source": [
    "ydata = np.array(df_analyse.Japan[40:200])\n",
    "t=np.arange(len(ydata))"
   ]
  },
  {
   "cell_type": "code",
   "execution_count": 428,
   "metadata": {},
   "outputs": [
    {
     "name": "stdout",
     "output_type": "stream",
     "text": [
      "start infected: 278\n",
      "cumulative sum of invected after period 47348\n",
      "Number of days 160\n",
      "N0 120000000\n"
     ]
    }
   ],
   "source": [
    "N0=120000000\n",
    "\n",
    "I0=ydata[0]\n",
    "S0=N0-I0\n",
    "R0=0\n",
    "print('start infected:',I0)\n",
    "print('cumulative sum of invected after period',ydata[-1])\n",
    "print('Number of days',len(ydata))\n",
    "print('N0',N0)"
   ]
  },
  {
   "cell_type": "code",
   "execution_count": 429,
   "metadata": {},
   "outputs": [
    {
     "name": "stdout",
     "output_type": "stream",
     "text": [
      "standard deviation errors :  [0.06997176 0.06931615]  start infect: 278\n",
      "Optimal parameters: beta = 1.6586507763820921  and gamma =  1.6189813633161467\n"
     ]
    }
   ],
   "source": [
    "popt, pcov = optimize.curve_fit(fit_odeint, t, ydata)\n",
    "perr = np.sqrt(np.diag(pcov))\n",
    "    \n",
    "print('standard deviation errors : ',str(perr), ' start infect:',ydata[0])\n",
    "print(\"Optimal parameters: beta =\", popt[0], \" and gamma = \", popt[1])\n",
    "\n",
    "# get the final fitted curve / predict the outcome \n",
    "fitted=fit_odeint(t, *popt)"
   ]
  },
  {
   "cell_type": "code",
   "execution_count": 430,
   "metadata": {},
   "outputs": [
    {
     "data": {
      "image/png": "[encoded data removed]",
      "text/plain": [
       "<Figure size 1152x648 with 1 Axes>"
      ]
     },
     "metadata": {},
     "output_type": "display_data"
    },
    {
     "name": "stdout",
     "output_type": "stream",
     "text": [
      "Optimal parameters: beta = 1.6586507763820921  and gamma =  1.6189813633161467\n",
      "Basic Reproduction Number R0  1.0245026990210009\n",
      "This ratio is derived as the expected number of new infections (these new infections are sometimes called secondary infections from a single infection in a population where all subjects are susceptible. @wiki\n"
     ]
    }
   ],
   "source": [
    "# option 1: ydata is cummulative, thus we need cumulative fitted line\n",
    "#plt.semilogy(t, ydata, 'o') \n",
    "#plt.semilogy(t, np.cumsum(fitted))\n",
    "\n",
    "# option2: ydata is cummulative, however we would like to have the day to day difference\n",
    "plt.semilogy(t,np.ediff1d(ydata, to_begin=ydata[1]-ydata[0]), 'o')\n",
    "plt.semilogy(t, fitted)\n",
    "\n",
    "plt.title(\"Fit of SIR model for Japan cases\")\n",
    "plt.ylabel(\"New Population infected\")\n",
    "plt.xlabel(\"Days\")\n",
    "plt.show()\n",
    "print(\"Optimal parameters: beta =\", popt[0], \" and gamma = \", popt[1])\n",
    "print(\"Basic Reproduction Number R0 \" , popt[0]/ popt[1])\n",
    "print(\"This ratio is derived as the expected number of new infections (these new infections are sometimes called secondary infections from a single infection in a population where all subjects are susceptible. @wiki\")"
   ]
  },
  {
   "cell_type": "code",
   "execution_count": 431,
   "metadata": {},
   "outputs": [],
   "source": [
    "df_japan = pd.DataFrame([])\n",
    "df_japan['japan_x'] = t\n",
    "df_japan['japan_y']= np.ediff1d(ydata, to_begin=ydata[1]-ydata[0])\n",
    "df_japan['japan_fit_x'] = t\n",
    "df_japan['japan_fit_y'] = fitted\n",
    "\n"
   ]
  },
  {
   "cell_type": "markdown",
   "metadata": {},
   "source": [
    "# germany"
   ]
  },
  {
   "cell_type": "code",
   "execution_count": 432,
   "metadata": {},
   "outputs": [],
   "source": [
    "N0=1000000 #max susceptible population\n",
    "beta=0.4   # infection spread dynamics\n",
    "gamma=0.1  # recovery rate\n",
    "\n",
    "## beta/gamma is the basic reproduction number, <1 means no spread virus\n",
    "\n",
    "\n",
    "# condition I0+S0+R0=N0\n",
    "I0=df_analyse.Germany[35]\n",
    "S0=N0-I0\n",
    "R0=0"
   ]
  },
  {
   "cell_type": "code",
   "execution_count": 433,
   "metadata": {},
   "outputs": [],
   "source": [
    "def SIR_model(SIR,beta,gamma):\n",
    "    ''' Simple SIR model\n",
    "        S: susceptible population\n",
    "        I: infected people\n",
    "        R: recovered people\n",
    "        beta: \n",
    "        \n",
    "        overall condition is that the sum of changes (differnces) sum up to 0\n",
    "        dS+dI+dR=0\n",
    "        S+I+R= N (constant size of population)\n",
    "    \n",
    "    '''\n",
    "    \n",
    "    S,I,R=SIR\n",
    "    dS_dt=-beta*S*I/N0          #S*I is the \n",
    "    dI_dt=beta*S*I/N0-gamma*I\n",
    "    dR_dt=gamma*I\n",
    "    return([dS_dt,dI_dt,dR_dt])\n"
   ]
  },
  {
   "cell_type": "code",
   "execution_count": 434,
   "metadata": {},
   "outputs": [],
   "source": [
    "\n",
    "SIR=np.array([S0,I0,R0])\n",
    "propagation_rates=pd.DataFrame(columns={'susceptible':S0,\n",
    "                                        'infected':I0,\n",
    "                                        'recoverd':R0})\n",
    "\n",
    "\n",
    "\n",
    "for each_t in np.arange(100):\n",
    "   \n",
    "    new_delta_vec=SIR_model(SIR,beta,gamma)\n",
    "   \n",
    "    SIR=SIR+new_delta_vec\n",
    "    \n",
    "    propagation_rates=propagation_rates.append({'susceptible':SIR[0],\n",
    "                                                'infected':SIR[1],\n",
    "                                                'recovered':SIR[2]}, ignore_index=True)\n"
   ]
  },
  {
   "cell_type": "code",
   "execution_count": 435,
   "metadata": {},
   "outputs": [],
   "source": [
    "def SIR_model_t(SIR,t,beta,gamma):\n",
    "    ''' Simple SIR model\n",
    "        S: susceptible population\n",
    "        t: time step, mandatory for integral.odeint\n",
    "        I: infected people\n",
    "        R: recovered people\n",
    "        beta: \n",
    "        \n",
    "        overall condition is that the sum of changes (differnces) sum up to 0\n",
    "        dS+dI+dR=0\n",
    "        S+I+R= N (constant size of population)\n",
    "    \n",
    "    '''\n",
    "    \n",
    "    S,I,R=SIR\n",
    "    dS_dt=-beta*S*I/N0          #S*I is the \n",
    "    dI_dt=beta*S*I/N0-gamma*I\n",
    "    dR_dt=gamma*I\n",
    "    return dS_dt,dI_dt,dR_dt"
   ]
  },
  {
   "cell_type": "code",
   "execution_count": 436,
   "metadata": {},
   "outputs": [],
   "source": [
    "# the resulting curve has to be fitted\n",
    "# free parameters are here beta and gamma\n",
    "\n",
    "def fit_odeint(x, beta, gamma):\n",
    "    '''\n",
    "    helper function for the integration\n",
    "    '''\n",
    "    return integrate.odeint(SIR_model_t, (S0, I0, R0), t, args=(beta, gamma))[:,1] # we only would like to get dI"
   ]
  },
  {
   "cell_type": "code",
   "execution_count": 437,
   "metadata": {},
   "outputs": [],
   "source": [
    "## fit the data set ydata, here the simulative data set of the infected curve\n",
    "\n",
    "ydata = propagation_rates.infected\n",
    "t=np.arange(len(ydata))"
   ]
  },
  {
   "cell_type": "code",
   "execution_count": 438,
   "metadata": {},
   "outputs": [
    {
     "name": "stdout",
     "output_type": "stream",
     "text": [
      "standard deviation errors :  [0.00087012 0.00074077]  start infect: 27.299823600000003\n",
      "Optimal parameters: beta = 0.37337789054916876  and gamma =  0.09619940540430044\n"
     ]
    },
    {
     "name": "stderr",
     "output_type": "stream",
     "text": [
      "<ipython-input-435-16f200073f8a>:16: RuntimeWarning:\n",
      "\n",
      "overflow encountered in double_scalars\n",
      "\n",
      "<ipython-input-435-16f200073f8a>:17: RuntimeWarning:\n",
      "\n",
      "overflow encountered in double_scalars\n",
      "\n",
      "<ipython-input-435-16f200073f8a>:18: RuntimeWarning:\n",
      "\n",
      "overflow encountered in double_scalars\n",
      "\n",
      "C:\\Users\\ankur\\anaconda3\\lib\\site-packages\\scipy\\integrate\\odepack.py:247: ODEintWarning:\n",
      "\n",
      "Illegal input detected (internal error). Run with full_output = 1 to get quantitative information.\n",
      "\n"
     ]
    }
   ],
   "source": [
    "popt, pcov = optimize.curve_fit(fit_odeint, t, ydata)\n",
    "perr = np.sqrt(np.diag(pcov))\n",
    "    \n",
    "print('standard deviation errors : ',str(perr), ' start infect:',ydata[0])\n",
    "print(\"Optimal parameters: beta =\", popt[0], \" and gamma = \", popt[1])\n",
    "\n"
   ]
  },
  {
   "cell_type": "code",
   "execution_count": 439,
   "metadata": {},
   "outputs": [],
   "source": [
    "# get the final fitted curve\n",
    "fitted=fit_odeint(t, *popt)"
   ]
  },
  {
   "cell_type": "code",
   "execution_count": 440,
   "metadata": {},
   "outputs": [
    {
     "data": {
      "image/png": "[encoded data removed]",
      "text/plain": [
       "<Figure size 1152x648 with 1 Axes>"
      ]
     },
     "metadata": {},
     "output_type": "display_data"
    },
    {
     "name": "stdout",
     "output_type": "stream",
     "text": [
      "Optimal parameters: beta = 0.37337789054916876  and gamma =  0.09619940540430044\n",
      "Basic Reproduction Number R0  3.8812910431198726\n",
      "This ratio is derived as the expected number of new infections (these new infections are sometimes called secondary infections from a single infection in a population where all subjects are susceptible. @wiki\n"
     ]
    }
   ],
   "source": [
    "plt.semilogy(t, ydata, 'o')\n",
    "plt.semilogy(t, fitted)\n",
    "#plt.semilogy(fitted)\n",
    "\n",
    "# plt.title(\"Fit of SIR model for Germany cases\")\n",
    "plt.title(\"Fit of SIR model for Germany cases\")\n",
    "plt.ylabel(\"Total Population infected\")\n",
    "plt.xlabel(\"Days\")\n",
    "plt.show()\n",
    "print(\"Optimal parameters: beta =\", popt[0], \" and gamma = \", popt[1])\n",
    "print(\"Basic Reproduction Number R0 \" , popt[0]/ popt[1])\n",
    "print(\"This ratio is derived as the expected number of new infections (these new infections are sometimes called secondary infections from a single infection in a population where all subjects are susceptible. @wiki\")"
   ]
  },
  {
   "cell_type": "code",
   "execution_count": 444,
   "metadata": {},
   "outputs": [],
   "source": [
    "## slice out some true data of a country\n",
    "\n",
    "ydata = np.array(df_analyse.Germany[40:200])\n",
    "t=np.arange(len(ydata))"
   ]
  },
  {
   "cell_type": "code",
   "execution_count": 445,
   "metadata": {},
   "outputs": [
    {
     "name": "stdout",
     "output_type": "stream",
     "text": [
      "start infected: 150\n",
      "cumulative sum of invected after period 215336\n",
      "Number of days 160\n",
      "N0 80000000\n"
     ]
    }
   ],
   "source": [
    "# ensure re-initialization \n",
    "# attenion when slicing gout only a time window \n",
    "# (one Corana wave) the overall N0 is not the full popoulation size \n",
    "N0=80000000\n",
    "\n",
    "I0=ydata[0]\n",
    "S0=N0-I0\n",
    "R0=0\n",
    "print('start infected:',I0)\n",
    "print('cumulative sum of invected after period',ydata[-1])\n",
    "print('Number of days',len(ydata))\n",
    "print('N0',N0)"
   ]
  },
  {
   "cell_type": "code",
   "execution_count": 446,
   "metadata": {},
   "outputs": [
    {
     "name": "stdout",
     "output_type": "stream",
     "text": [
      "standard deviation errors :  [0.02354297 0.02341414]  start infect: 150\n",
      "Optimal parameters: beta = 0.8967033052727574  and gamma =  0.8250827467439347\n"
     ]
    }
   ],
   "source": [
    "\n",
    "## get the model parameters / fit the model\n",
    "popt, pcov = optimize.curve_fit(fit_odeint, t, ydata)\n",
    "perr = np.sqrt(np.diag(pcov))\n",
    "    \n",
    "print('standard deviation errors : ',str(perr), ' start infect:',ydata[0])\n",
    "print(\"Optimal parameters: beta =\", popt[0], \" and gamma = \", popt[1])\n",
    "\n",
    "# get the final fitted curve / predict the outcome \n",
    "fitted=fit_odeint(t, *popt)"
   ]
  },
  {
   "cell_type": "code",
   "execution_count": 447,
   "metadata": {},
   "outputs": [
    {
     "data": {
      "image/png": "[encoded data removed]",
      "text/plain": [
       "<Figure size 1152x648 with 1 Axes>"
      ]
     },
     "metadata": {},
     "output_type": "display_data"
    },
    {
     "name": "stdout",
     "output_type": "stream",
     "text": [
      "Optimal parameters: beta = 0.8967033052727574  and gamma =  0.8250827467439347\n",
      "Basic Reproduction Number R0  1.0868040918458937\n",
      "This ratio is derived as the expected number of new infections (these new infections are sometimes called secondary infections from a single infection in a population where all subjects are susceptible. @wiki\n"
     ]
    }
   ],
   "source": [
    "# option 1: ydata is cummulative, thus we need cumulative fitted line\n",
    "#plt.semilogy(t, ydata, 'o') \n",
    "#plt.semilogy(t, np.cumsum(fitted))\n",
    "\n",
    "# option2: ydata is cummulative, however we would like to have the day to day difference\n",
    "plt.semilogy(t,np.ediff1d(ydata, to_begin=ydata[1]-ydata[0]), 'o')\n",
    "plt.semilogy(t, fitted)\n",
    "\n",
    "plt.title(\"Fit of SIR model for Germany cases\")\n",
    "plt.ylabel(\"New Population infected\")\n",
    "plt.xlabel(\"Days\")\n",
    "plt.show()\n",
    "print(\"Optimal parameters: beta =\", popt[0], \" and gamma = \", popt[1])\n",
    "print(\"Basic Reproduction Number R0 \" , popt[0]/ popt[1])\n",
    "print(\"This ratio is derived as the expected number of new infections (these new infections are sometimes called secondary infections from a single infection in a population where all subjects are susceptible. @wiki\")"
   ]
  },
  {
   "cell_type": "code",
   "execution_count": 448,
   "metadata": {},
   "outputs": [],
   "source": [
    "df_germany = pd.DataFrame([])\n",
    "df_germany['germany_x'] = t\n",
    "df_germany['germany_y']= np.ediff1d(ydata, to_begin=ydata[1]-ydata[0])\n",
    "df_germany['germany_fit_x'] = t\n",
    "df_germany['germany_fit_y'] = fitted\n"
   ]
  },
  {
   "cell_type": "code",
   "execution_count": 449,
   "metadata": {},
   "outputs": [
    {
     "data": {
      "application/vnd.plotly.v1+json": {
       "config": {
        "plotlyServerURL": "https://plot.ly"
       },
       "data": [
        {
         "mode": "markers",
         "type": "scatter",
         "x": [
          0,
          1,
          2,
          3,
          4,
          5,
          6,
          7,
          8,
          9,
          10,
          11,
          12,
          13,
          14,
          15,
          16,
          17,
          18,
          19,
          20,
          21,
          22,
          23,
          24,
          25,
          26,
          27,
          28,
          29,
          30,
          31,
          32,
          33,
          34,
          35,
          36,
          37,
          38,
          39,
          40,
          41,
          42,
          43,
          44,
          45,
          46,
          47,
          48,
          49,
          50,
          51,
          52,
          53,
          54,
          55,
          56,
          57,
          58,
          59,
          60,
          61,
          62,
          63,
          64,
          65,
          66,
          67,
          68,
          69,
          70,
          71,
          72,
          73,
          74,
          75,
          76,
          77,
          78,
          79,
          80,
          81,
          82,
          83,
          84,
          85,
          86,
          87,
          88,
          89,
          90,
          91,
          92,
          93,
          94,
          95,
          96,
          97,
          98,
          99,
          100,
          101,
          102,
          103,
          104,
          105,
          106,
          107,
          108,
          109,
          110,
          111,
          112,
          113,
          114,
          115,
          116,
          117,
          118,
          119,
          120,
          121,
          122,
          123,
          124,
          125,
          126,
          127,
          128,
          129,
          130,
          131,
          132,
          133,
          134,
          135,
          136,
          137,
          138,
          139,
          140,
          141,
          142,
          143,
          144,
          145,
          146,
          147,
          148,
          149,
          150,
          151,
          152,
          153,
          154,
          155,
          156,
          157,
          158,
          159
         ],
         "y": [
          38,
          38,
          52,
          109,
          185,
          150,
          163,
          265,
          184,
          271,
          802,
          693,
          733,
          1043,
          1174,
          1144,
          1042,
          2801,
          2958,
          2705,
          1948,
          4062,
          4764,
          4118,
          4954,
          5780,
          6294,
          3965,
          4751,
          4615,
          5453,
          6156,
          6174,
          6082,
          5936,
          3677,
          3834,
          4003,
          4974,
          5323,
          4133,
          2821,
          2537,
          2082,
          2486,
          2866,
          3380,
          3609,
          2458,
          1775,
          1785,
          2237,
          2352,
          2337,
          2055,
          1737,
          1018,
          1144,
          1304,
          1478,
          1639,
          945,
          793,
          679,
          685,
          947,
          1284,
          1209,
          1251,
          667,
          357,
          933,
          798,
          933,
          913,
          620,
          583,
          342,
          513,
          797,
          745,
          460,
          638,
          431,
          289,
          432,
          362,
          353,
          741,
          738,
          286,
          333,
          213,
          342,
          394,
          507,
          407,
          301,
          214,
          350,
          318,
          555,
          258,
          348,
          247,
          192,
          378,
          345,
          580,
          770,
          601,
          687,
          537,
          503,
          587,
          630,
          477,
          687,
          256,
          262,
          498,
          466,
          503,
          446,
          422,
          239,
          219,
          390,
          397,
          442,
          395,
          378,
          248,
          159,
          412,
          351,
          534,
          583,
          529,
          202,
          249,
          522,
          454,
          569,
          815,
          781,
          305,
          340,
          633,
          684,
          902,
          870,
          955,
          240,
          509,
          879,
          741,
          1045,
          1147,
          1122
         ]
        },
        {
         "mode": "lines",
         "type": "scatter",
         "x": [
          0,
          1,
          2,
          3,
          4,
          5,
          6,
          7,
          8,
          9,
          10,
          11,
          12,
          13,
          14,
          15,
          16,
          17,
          18,
          19,
          20,
          21,
          22,
          23,
          24,
          25,
          26,
          27,
          28,
          29,
          30,
          31,
          32,
          33,
          34,
          35,
          36,
          37,
          38,
          39,
          40,
          41,
          42,
          43,
          44,
          45,
          46,
          47,
          48,
          49,
          50,
          51,
          52,
          53,
          54,
          55,
          56,
          57,
          58,
          59,
          60,
          61,
          62,
          63,
          64,
          65,
          66,
          67,
          68,
          69,
          70,
          71,
          72,
          73,
          74,
          75,
          76,
          77,
          78,
          79,
          80,
          81,
          82,
          83,
          84,
          85,
          86,
          87,
          88,
          89,
          90,
          91,
          92,
          93,
          94,
          95,
          96,
          97,
          98,
          99,
          100,
          101,
          102,
          103,
          104,
          105,
          106,
          107,
          108,
          109,
          110,
          111,
          112,
          113,
          114,
          115,
          116,
          117,
          118,
          119,
          120,
          121,
          122,
          123,
          124,
          125,
          126,
          127,
          128,
          129,
          130,
          131,
          132,
          133,
          134,
          135,
          136,
          137,
          138,
          139,
          140,
          141,
          142,
          143,
          144,
          145,
          146,
          147,
          148,
          149,
          150,
          151,
          152,
          153,
          154,
          155,
          156,
          157,
          158,
          159
         ],
         "y": [
          150,
          161.13675259802622,
          173.100073049759,
          185.95126597755677,
          199.7561760615564,
          214.5855241906655,
          230.5152642810111,
          247.62697282563502,
          266.0082626601573,
          285.75322743301996,
          306.9629174866284,
          329.7458535752617,
          354.21857574902407,
          380.50623270929026,
          408.74321431722973,
          439.0738298491309,
          471.65303252467754,
          506.6472031214507,
          544.2349846824519,
          584.6081769294628,
          627.972698415377,
          674.5496139145762,
          724.5762384294136,
          778.3073174386888,
          836.0162921599747,
          897.9966528311732,
          964.5633889890566,
          1036.0545397852807,
          1112.8328534975396,
          1195.2875627219105,
          1283.8362779044426,
          1378.9270181931463,
          1481.0403753257265,
          1590.691823855466,
          1708.4341926144589,
          1834.8602899559594,
          1970.605716980949,
          2116.351848201887,
          2272.829021489279,
          2440.819917697977,
          2621.1631635058034,
          2814.7571527339755,
          3022.5641025030936,
          3245.6143553413303,
          3485.010930778317,
          3741.9343416084594,
          4017.6476820464777,
          4313.501984290374,
          4630.9418810033385,
          4971.511522395617,
          5336.8608092272025,
          5728.751924390959,
          6149.066084639984,
          6599.810694110972,
          7083.126615599218,
          7601.295812611956,
          8156.749201091098,
          8752.074550118725,
          9390.024856265769,
          10073.526417262532,
          10805.687325297764,
          11589.80577920783,
          12429.37807323632,
          13328.106981972223,
          14289.908912122406,
          15318.921473506534,
          16419.509926131755,
          17596.272408343913,
          18854.044849973296,
          20197.904241706372,
          21633.170215683796,
          23165.404308894984,
          24800.407606953988,
          26544.21493432119,
          28403.08638305322,
          30383.494458362624,
          32492.107633265514,
          34735.76806570432,
          37121.46470759273,
          39656.29910504383,
          42347.445123165926,
          45202.09981895481,
          48227.42670680357,
          51430.48864726144,
          54818.17136618069,
          58397.09542479304,
          62173.51695200873,
          66153.21627860509,
          70341.37355364746,
          74742.43280295386,
          79359.95149113197,
          84196.44069046942,
          89253.18998598278,
          94530.08733401494,
          100025.42412598818,
          105735.70223390035,
          111655.42817166737,
          117776.9198331126,
          124090.1096887727,
          130582.35931128783,
          137238.29491652775,
          144039.662846853,
          150965.21566884773,
          157990.6351595099,
          165088.50237349956,
          172228.31870360553,
          179376.5879968104,
          186496.9637550697,
          193550.46853888815,
          200495.78734767117,
          207289.63654065912,
          213887.2107926665,
          220242.6956736579,
          226309.85318282095,
          232042.65504758613,
          237395.96349727787,
          242326.24100590395,
          246792.26372375496,
          250755.8365658052,
          254182.4692500773,
          257042.01094916306,
          259309.21199134883,
          260964.20089573954,
          261992.8581437375,
          262387.0767530226,
          262144.900821712,
          261270.5327284388,
          259774.22467481726,
          257672.0339729941,
          254985.4812314112,
          251741.0979538983,
          247969.8923692608,
          243706.75449864217,
          238989.80236951442,
          233859.71164812674,
          228359.02656016932,
          222531.4853798815,
          216421.3664840343,
          210072.87646173872,
          203529.584516024,
          196833.91772905603,
          190026.7221781843,
          183146.88627051553,
          176231.0425727083,
          169313.32751722264,
          162425.21392361232,
          155595.40313499994,
          148849.7704141214,
          142211.35558067367,
          135700.41151264528,
          129334.48232550285,
          123128.4978619604,
          117094.91255277843,
          111243.8578693292,
          105583.29507169111,
          100119.18932529971,
          94855.68406587593,
          89795.27308727031,
          84938.9724408047,
          80286.4866237792
         ]
        }
       ],
       "layout": {
        "height": 600,
        "template": {
         "data": {
          "bar": [
           {
            "error_x": {
             "color": "#2a3f5f"
            },
            "error_y": {
             "color": "#2a3f5f"
            },
            "marker": {
             "line": {
              "color": "#E5ECF6",
              "width": 0.5
             },
             "pattern": {
              "fillmode": "overlay",
              "size": 10,
              "solidity": 0.2
             }
            },
            "type": "bar"
           }
          ],
          "barpolar": [
           {
            "marker": {
             "line": {
              "color": "#E5ECF6",
              "width": 0.5
             },
             "pattern": {
              "fillmode": "overlay",
              "size": 10,
              "solidity": 0.2
             }
            },
            "type": "barpolar"
           }
          ],
          "carpet": [
           {
            "aaxis": {
             "endlinecolor": "#2a3f5f",
             "gridcolor": "white",
             "linecolor": "white",
             "minorgridcolor": "white",
             "startlinecolor": "#2a3f5f"
            },
            "baxis": {
             "endlinecolor": "#2a3f5f",
             "gridcolor": "white",
             "linecolor": "white",
             "minorgridcolor": "white",
             "startlinecolor": "#2a3f5f"
            },
            "type": "carpet"
           }
          ],
          "choropleth": [
           {
            "colorbar": {
             "outlinewidth": 0,
             "ticks": ""
            },
            "type": "choropleth"
           }
          ],
          "contour": [
           {
            "colorbar": {
             "outlinewidth": 0,
             "ticks": ""
            },
            "colorscale": [
             [
              0,
              "#0d0887"
             ],
             [
              0.1111111111111111,
              "#46039f"
             ],
             [
              0.2222222222222222,
              "#7201a8"
             ],
             [
              0.3333333333333333,
              "#9c179e"
             ],
             [
              0.4444444444444444,
              "#bd3786"
             ],
             [
              0.5555555555555556,
              "#d8576b"
             ],
             [
              0.6666666666666666,
              "#ed7953"
             ],
             [
              0.7777777777777778,
              "#fb9f3a"
             ],
             [
              0.8888888888888888,
              "#fdca26"
             ],
             [
              1,
              "#f0f921"
             ]
            ],
            "type": "contour"
           }
          ],
          "contourcarpet": [
           {
            "colorbar": {
             "outlinewidth": 0,
             "ticks": ""
            },
            "type": "contourcarpet"
           }
          ],
          "heatmap": [
           {
            "colorbar": {
             "outlinewidth": 0,
             "ticks": ""
            },
            "colorscale": [
             [
              0,
              "#0d0887"
             ],
             [
              0.1111111111111111,
              "#46039f"
             ],
             [
              0.2222222222222222,
              "#7201a8"
             ],
             [
              0.3333333333333333,
              "#9c179e"
             ],
             [
              0.4444444444444444,
              "#bd3786"
             ],
             [
              0.5555555555555556,
              "#d8576b"
             ],
             [
              0.6666666666666666,
              "#ed7953"
             ],
             [
              0.7777777777777778,
              "#fb9f3a"
             ],
             [
              0.8888888888888888,
              "#fdca26"
             ],
             [
              1,
              "#f0f921"
             ]
            ],
            "type": "heatmap"
           }
          ],
          "heatmapgl": [
           {
            "colorbar": {
             "outlinewidth": 0,
             "ticks": ""
            },
            "colorscale": [
             [
              0,
              "#0d0887"
             ],
             [
              0.1111111111111111,
              "#46039f"
             ],
             [
              0.2222222222222222,
              "#7201a8"
             ],
             [
              0.3333333333333333,
              "#9c179e"
             ],
             [
              0.4444444444444444,
              "#bd3786"
             ],
             [
              0.5555555555555556,
              "#d8576b"
             ],
             [
              0.6666666666666666,
              "#ed7953"
             ],
             [
              0.7777777777777778,
              "#fb9f3a"
             ],
             [
              0.8888888888888888,
              "#fdca26"
             ],
             [
              1,
              "#f0f921"
             ]
            ],
            "type": "heatmapgl"
           }
          ],
          "histogram": [
           {
            "marker": {
             "pattern": {
              "fillmode": "overlay",
              "size": 10,
              "solidity": 0.2
             }
            },
            "type": "histogram"
           }
          ],
          "histogram2d": [
           {
            "colorbar": {
             "outlinewidth": 0,
             "ticks": ""
            },
            "colorscale": [
             [
              0,
              "#0d0887"
             ],
             [
              0.1111111111111111,
              "#46039f"
             ],
             [
              0.2222222222222222,
              "#7201a8"
             ],
             [
              0.3333333333333333,
              "#9c179e"
             ],
             [
              0.4444444444444444,
              "#bd3786"
             ],
             [
              0.5555555555555556,
              "#d8576b"
             ],
             [
              0.6666666666666666,
              "#ed7953"
             ],
             [
              0.7777777777777778,
              "#fb9f3a"
             ],
             [
              0.8888888888888888,
              "#fdca26"
             ],
             [
              1,
              "#f0f921"
             ]
            ],
            "type": "histogram2d"
           }
          ],
          "histogram2dcontour": [
           {
            "colorbar": {
             "outlinewidth": 0,
             "ticks": ""
            },
            "colorscale": [
             [
              0,
              "#0d0887"
             ],
             [
              0.1111111111111111,
              "#46039f"
             ],
             [
              0.2222222222222222,
              "#7201a8"
             ],
             [
              0.3333333333333333,
              "#9c179e"
             ],
             [
              0.4444444444444444,
              "#bd3786"
             ],
             [
              0.5555555555555556,
              "#d8576b"
             ],
             [
              0.6666666666666666,
              "#ed7953"
             ],
             [
              0.7777777777777778,
              "#fb9f3a"
             ],
             [
              0.8888888888888888,
              "#fdca26"
             ],
             [
              1,
              "#f0f921"
             ]
            ],
            "type": "histogram2dcontour"
           }
          ],
          "mesh3d": [
           {
            "colorbar": {
             "outlinewidth": 0,
             "ticks": ""
            },
            "type": "mesh3d"
           }
          ],
          "parcoords": [
           {
            "line": {
             "colorbar": {
              "outlinewidth": 0,
              "ticks": ""
             }
            },
            "type": "parcoords"
           }
          ],
          "pie": [
           {
            "automargin": true,
            "type": "pie"
           }
          ],
          "scatter": [
           {
            "fillpattern": {
             "fillmode": "overlay",
             "size": 10,
             "solidity": 0.2
            },
            "type": "scatter"
           }
          ],
          "scatter3d": [
           {
            "line": {
             "colorbar": {
              "outlinewidth": 0,
              "ticks": ""
             }
            },
            "marker": {
             "colorbar": {
              "outlinewidth": 0,
              "ticks": ""
             }
            },
            "type": "scatter3d"
           }
          ],
          "scattercarpet": [
           {
            "marker": {
             "colorbar": {
              "outlinewidth": 0,
              "ticks": ""
             }
            },
            "type": "scattercarpet"
           }
          ],
          "scattergeo": [
           {
            "marker": {
             "colorbar": {
              "outlinewidth": 0,
              "ticks": ""
             }
            },
            "type": "scattergeo"
           }
          ],
          "scattergl": [
           {
            "marker": {
             "colorbar": {
              "outlinewidth": 0,
              "ticks": ""
             }
            },
            "type": "scattergl"
           }
          ],
          "scattermapbox": [
           {
            "marker": {
             "colorbar": {
              "outlinewidth": 0,
              "ticks": ""
             }
            },
            "type": "scattermapbox"
           }
          ],
          "scatterpolar": [
           {
            "marker": {
             "colorbar": {
              "outlinewidth": 0,
              "ticks": ""
             }
            },
            "type": "scatterpolar"
           }
          ],
          "scatterpolargl": [
           {
            "marker": {
             "colorbar": {
              "outlinewidth": 0,
              "ticks": ""
             }
            },
            "type": "scatterpolargl"
           }
          ],
          "scatterternary": [
           {
            "marker": {
             "colorbar": {
              "outlinewidth": 0,
              "ticks": ""
             }
            },
            "type": "scatterternary"
           }
          ],
          "surface": [
           {
            "colorbar": {
             "outlinewidth": 0,
             "ticks": ""
            },
            "colorscale": [
             [
              0,
              "#0d0887"
             ],
             [
              0.1111111111111111,
              "#46039f"
             ],
             [
              0.2222222222222222,
              "#7201a8"
             ],
             [
              0.3333333333333333,
              "#9c179e"
             ],
             [
              0.4444444444444444,
              "#bd3786"
             ],
             [
              0.5555555555555556,
              "#d8576b"
             ],
             [
              0.6666666666666666,
              "#ed7953"
             ],
             [
              0.7777777777777778,
              "#fb9f3a"
             ],
             [
              0.8888888888888888,
              "#fdca26"
             ],
             [
              1,
              "#f0f921"
             ]
            ],
            "type": "surface"
           }
          ],
          "table": [
           {
            "cells": {
             "fill": {
              "color": "#EBF0F8"
             },
             "line": {
              "color": "white"
             }
            },
            "header": {
             "fill": {
              "color": "#C8D4E3"
             },
             "line": {
              "color": "white"
             }
            },
            "type": "table"
           }
          ]
         },
         "layout": {
          "annotationdefaults": {
           "arrowcolor": "#2a3f5f",
           "arrowhead": 0,
           "arrowwidth": 1
          },
          "autotypenumbers": "strict",
          "coloraxis": {
           "colorbar": {
            "outlinewidth": 0,
            "ticks": ""
           }
          },
          "colorscale": {
           "diverging": [
            [
             0,
             "#8e0152"
            ],
            [
             0.1,
             "#c51b7d"
            ],
            [
             0.2,
             "#de77ae"
            ],
            [
             0.3,
             "#f1b6da"
            ],
            [
             0.4,
             "#fde0ef"
            ],
            [
             0.5,
             "#f7f7f7"
            ],
            [
             0.6,
             "#e6f5d0"
            ],
            [
             0.7,
             "#b8e186"
            ],
            [
             0.8,
             "#7fbc41"
            ],
            [
             0.9,
             "#4d9221"
            ],
            [
             1,
             "#276419"
            ]
           ],
           "sequential": [
            [
             0,
             "#0d0887"
            ],
            [
             0.1111111111111111,
             "#46039f"
            ],
            [
             0.2222222222222222,
             "#7201a8"
            ],
            [
             0.3333333333333333,
             "#9c179e"
            ],
            [
             0.4444444444444444,
             "#bd3786"
            ],
            [
             0.5555555555555556,
             "#d8576b"
            ],
            [
             0.6666666666666666,
             "#ed7953"
            ],
            [
             0.7777777777777778,
             "#fb9f3a"
            ],
            [
             0.8888888888888888,
             "#fdca26"
            ],
            [
             1,
             "#f0f921"
            ]
           ],
           "sequentialminus": [
            [
             0,
             "#0d0887"
            ],
            [
             0.1111111111111111,
             "#46039f"
            ],
            [
             0.2222222222222222,
             "#7201a8"
            ],
            [
             0.3333333333333333,
             "#9c179e"
            ],
            [
             0.4444444444444444,
             "#bd3786"
            ],
            [
             0.5555555555555556,
             "#d8576b"
            ],
            [
             0.6666666666666666,
             "#ed7953"
            ],
            [
             0.7777777777777778,
             "#fb9f3a"
            ],
            [
             0.8888888888888888,
             "#fdca26"
            ],
            [
             1,
             "#f0f921"
            ]
           ]
          },
          "colorway": [
           "#636efa",
           "#EF553B",
           "#00cc96",
           "#ab63fa",
           "#FFA15A",
           "#19d3f3",
           "#FF6692",
           "#B6E880",
           "#FF97FF",
           "#FECB52"
          ],
          "font": {
           "color": "#2a3f5f"
          },
          "geo": {
           "bgcolor": "white",
           "lakecolor": "white",
           "landcolor": "#E5ECF6",
           "showlakes": true,
           "showland": true,
           "subunitcolor": "white"
          },
          "hoverlabel": {
           "align": "left"
          },
          "hovermode": "closest",
          "mapbox": {
           "style": "light"
          },
          "paper_bgcolor": "white",
          "plot_bgcolor": "#E5ECF6",
          "polar": {
           "angularaxis": {
            "gridcolor": "white",
            "linecolor": "white",
            "ticks": ""
           },
           "bgcolor": "#E5ECF6",
           "radialaxis": {
            "gridcolor": "white",
            "linecolor": "white",
            "ticks": ""
           }
          },
          "scene": {
           "xaxis": {
            "backgroundcolor": "#E5ECF6",
            "gridcolor": "white",
            "gridwidth": 2,
            "linecolor": "white",
            "showbackground": true,
            "ticks": "",
            "zerolinecolor": "white"
           },
           "yaxis": {
            "backgroundcolor": "#E5ECF6",
            "gridcolor": "white",
            "gridwidth": 2,
            "linecolor": "white",
            "showbackground": true,
            "ticks": "",
            "zerolinecolor": "white"
           },
           "zaxis": {
            "backgroundcolor": "#E5ECF6",
            "gridcolor": "white",
            "gridwidth": 2,
            "linecolor": "white",
            "showbackground": true,
            "ticks": "",
            "zerolinecolor": "white"
           }
          },
          "shapedefaults": {
           "line": {
            "color": "#2a3f5f"
           }
          },
          "ternary": {
           "aaxis": {
            "gridcolor": "white",
            "linecolor": "white",
            "ticks": ""
           },
           "baxis": {
            "gridcolor": "white",
            "linecolor": "white",
            "ticks": ""
           },
           "bgcolor": "#E5ECF6",
           "caxis": {
            "gridcolor": "white",
            "linecolor": "white",
            "ticks": ""
           }
          },
          "title": {
           "x": 0.05
          },
          "xaxis": {
           "automargin": true,
           "gridcolor": "white",
           "linecolor": "white",
           "ticks": "",
           "title": {
            "standoff": 15
           },
           "zerolinecolor": "white",
           "zerolinewidth": 2
          },
          "yaxis": {
           "automargin": true,
           "gridcolor": "white",
           "linecolor": "white",
           "ticks": "",
           "title": {
            "standoff": 15
           },
           "zerolinecolor": "white",
           "zerolinewidth": 2
          }
         }
        },
        "title": {
         "text": "Fit of SIR model for Germany cases"
        },
        "width": 900,
        "xaxis": {
         "title": {
          "text": "Days"
         }
        },
        "yaxis": {
         "title": {
          "text": "New Population infected"
         },
         "type": "log"
        }
       }
      },
      "text/html": [
       "<div>                            <div id=\"f49cf3e0-e3fa-4a52-b5d1-8185066e89a1\" class=\"plotly-graph-div\" style=\"height:600px; width:900px;\"></div>            <script type=\"text/javascript\">                require([\"plotly\"], function(Plotly) {                    window.PLOTLYENV=window.PLOTLYENV || {};                                    if (document.getElementById(\"f49cf3e0-e3fa-4a52-b5d1-8185066e89a1\")) {                    Plotly.newPlot(                        \"f49cf3e0-e3fa-4a52-b5d1-8185066e89a1\",                        [{\"mode\":\"markers\",\"x\":[0,1,2,3,4,5,6,7,8,9,10,11,12,13,14,15,16,17,18,19,20,21,22,23,24,25,26,27,28,29,30,31,32,33,34,35,36,37,38,39,40,41,42,43,44,45,46,47,48,49,50,51,52,53,54,55,56,57,58,59,60,61,62,63,64,65,66,67,68,69,70,71,72,73,74,75,76,77,78,79,80,81,82,83,84,85,86,87,88,89,90,91,92,93,94,95,96,97,98,99,100,101,102,103,104,105,106,107,108,109,110,111,112,113,114,115,116,117,118,119,120,121,122,123,124,125,126,127,128,129,130,131,132,133,134,135,136,137,138,139,140,141,142,143,144,145,146,147,148,149,150,151,152,153,154,155,156,157,158,159],\"y\":[38,38,52,109,185,150,163,265,184,271,802,693,733,1043,1174,1144,1042,2801,2958,2705,1948,4062,4764,4118,4954,5780,6294,3965,4751,4615,5453,6156,6174,6082,5936,3677,3834,4003,4974,5323,4133,2821,2537,2082,2486,2866,3380,3609,2458,1775,1785,2237,2352,2337,2055,1737,1018,1144,1304,1478,1639,945,793,679,685,947,1284,1209,1251,667,357,933,798,933,913,620,583,342,513,797,745,460,638,431,289,432,362,353,741,738,286,333,213,342,394,507,407,301,214,350,318,555,258,348,247,192,378,345,580,770,601,687,537,503,587,630,477,687,256,262,498,466,503,446,422,239,219,390,397,442,395,378,248,159,412,351,534,583,529,202,249,522,454,569,815,781,305,340,633,684,902,870,955,240,509,879,741,1045,1147,1122],\"type\":\"scatter\"},{\"mode\":\"lines\",\"x\":[0,1,2,3,4,5,6,7,8,9,10,11,12,13,14,15,16,17,18,19,20,21,22,23,24,25,26,27,28,29,30,31,32,33,34,35,36,37,38,39,40,41,42,43,44,45,46,47,48,49,50,51,52,53,54,55,56,57,58,59,60,61,62,63,64,65,66,67,68,69,70,71,72,73,74,75,76,77,78,79,80,81,82,83,84,85,86,87,88,89,90,91,92,93,94,95,96,97,98,99,100,101,102,103,104,105,106,107,108,109,110,111,112,113,114,115,116,117,118,119,120,121,122,123,124,125,126,127,128,129,130,131,132,133,134,135,136,137,138,139,140,141,142,143,144,145,146,147,148,149,150,151,152,153,154,155,156,157,158,159],\"y\":[150.0,161.13675259802622,173.100073049759,185.95126597755677,199.7561760615564,214.5855241906655,230.5152642810111,247.62697282563502,266.0082626601573,285.75322743301996,306.9629174866284,329.7458535752617,354.21857574902407,380.50623270929026,408.74321431722973,439.0738298491309,471.65303252467754,506.6472031214507,544.2349846824519,584.6081769294628,627.972698415377,674.5496139145762,724.5762384294136,778.3073174386888,836.0162921599747,897.9966528311732,964.5633889890566,1036.0545397852807,1112.8328534975396,1195.2875627219105,1283.8362779044426,1378.9270181931463,1481.0403753257265,1590.691823855466,1708.4341926144589,1834.8602899559594,1970.605716980949,2116.351848201887,2272.829021489279,2440.819917697977,2621.1631635058034,2814.7571527339755,3022.5641025030936,3245.6143553413303,3485.010930778317,3741.9343416084594,4017.6476820464777,4313.501984290374,4630.9418810033385,4971.511522395617,5336.8608092272025,5728.751924390959,6149.066084639984,6599.810694110972,7083.126615599218,7601.295812611956,8156.749201091098,8752.074550118725,9390.024856265769,10073.526417262532,10805.687325297764,11589.80577920783,12429.37807323632,13328.106981972223,14289.908912122406,15318.921473506534,16419.509926131755,17596.272408343913,18854.044849973296,20197.904241706372,21633.170215683796,23165.404308894984,24800.407606953988,26544.21493432119,28403.08638305322,30383.494458362624,32492.107633265514,34735.76806570432,37121.46470759273,39656.29910504383,42347.445123165926,45202.09981895481,48227.42670680357,51430.48864726144,54818.17136618069,58397.09542479304,62173.51695200873,66153.21627860509,70341.37355364746,74742.43280295386,79359.95149113197,84196.44069046942,89253.18998598278,94530.08733401494,100025.42412598818,105735.70223390035,111655.42817166737,117776.9198331126,124090.1096887727,130582.35931128783,137238.29491652775,144039.662846853,150965.21566884773,157990.6351595099,165088.50237349956,172228.31870360553,179376.5879968104,186496.9637550697,193550.46853888815,200495.78734767117,207289.63654065912,213887.2107926665,220242.6956736579,226309.85318282095,232042.65504758613,237395.96349727787,242326.24100590395,246792.26372375496,250755.8365658052,254182.4692500773,257042.01094916306,259309.21199134883,260964.20089573954,261992.8581437375,262387.0767530226,262144.900821712,261270.5327284388,259774.22467481726,257672.0339729941,254985.4812314112,251741.0979538983,247969.8923692608,243706.75449864217,238989.80236951442,233859.71164812674,228359.02656016932,222531.4853798815,216421.3664840343,210072.87646173872,203529.584516024,196833.91772905603,190026.7221781843,183146.88627051553,176231.0425727083,169313.32751722264,162425.21392361232,155595.40313499994,148849.7704141214,142211.35558067367,135700.41151264528,129334.48232550285,123128.4978619604,117094.91255277843,111243.8578693292,105583.29507169111,100119.18932529971,94855.68406587593,89795.27308727031,84938.9724408047,80286.4866237792],\"type\":\"scatter\"}],                        {\"template\":{\"data\":{\"histogram2dcontour\":[{\"type\":\"histogram2dcontour\",\"colorbar\":{\"outlinewidth\":0,\"ticks\":\"\"},\"colorscale\":[[0.0,\"#0d0887\"],[0.1111111111111111,\"#46039f\"],[0.2222222222222222,\"#7201a8\"],[0.3333333333333333,\"#9c179e\"],[0.4444444444444444,\"#bd3786\"],[0.5555555555555556,\"#d8576b\"],[0.6666666666666666,\"#ed7953\"],[0.7777777777777778,\"#fb9f3a\"],[0.8888888888888888,\"#fdca26\"],[1.0,\"#f0f921\"]]}],\"choropleth\":[{\"type\":\"choropleth\",\"colorbar\":{\"outlinewidth\":0,\"ticks\":\"\"}}],\"histogram2d\":[{\"type\":\"histogram2d\",\"colorbar\":{\"outlinewidth\":0,\"ticks\":\"\"},\"colorscale\":[[0.0,\"#0d0887\"],[0.1111111111111111,\"#46039f\"],[0.2222222222222222,\"#7201a8\"],[0.3333333333333333,\"#9c179e\"],[0.4444444444444444,\"#bd3786\"],[0.5555555555555556,\"#d8576b\"],[0.6666666666666666,\"#ed7953\"],[0.7777777777777778,\"#fb9f3a\"],[0.8888888888888888,\"#fdca26\"],[1.0,\"#f0f921\"]]}],\"heatmap\":[{\"type\":\"heatmap\",\"colorbar\":{\"outlinewidth\":0,\"ticks\":\"\"},\"colorscale\":[[0.0,\"#0d0887\"],[0.1111111111111111,\"#46039f\"],[0.2222222222222222,\"#7201a8\"],[0.3333333333333333,\"#9c179e\"],[0.4444444444444444,\"#bd3786\"],[0.5555555555555556,\"#d8576b\"],[0.6666666666666666,\"#ed7953\"],[0.7777777777777778,\"#fb9f3a\"],[0.8888888888888888,\"#fdca26\"],[1.0,\"#f0f921\"]]}],\"heatmapgl\":[{\"type\":\"heatmapgl\",\"colorbar\":{\"outlinewidth\":0,\"ticks\":\"\"},\"colorscale\":[[0.0,\"#0d0887\"],[0.1111111111111111,\"#46039f\"],[0.2222222222222222,\"#7201a8\"],[0.3333333333333333,\"#9c179e\"],[0.4444444444444444,\"#bd3786\"],[0.5555555555555556,\"#d8576b\"],[0.6666666666666666,\"#ed7953\"],[0.7777777777777778,\"#fb9f3a\"],[0.8888888888888888,\"#fdca26\"],[1.0,\"#f0f921\"]]}],\"contourcarpet\":[{\"type\":\"contourcarpet\",\"colorbar\":{\"outlinewidth\":0,\"ticks\":\"\"}}],\"contour\":[{\"type\":\"contour\",\"colorbar\":{\"outlinewidth\":0,\"ticks\":\"\"},\"colorscale\":[[0.0,\"#0d0887\"],[0.1111111111111111,\"#46039f\"],[0.2222222222222222,\"#7201a8\"],[0.3333333333333333,\"#9c179e\"],[0.4444444444444444,\"#bd3786\"],[0.5555555555555556,\"#d8576b\"],[0.6666666666666666,\"#ed7953\"],[0.7777777777777778,\"#fb9f3a\"],[0.8888888888888888,\"#fdca26\"],[1.0,\"#f0f921\"]]}],\"surface\":[{\"type\":\"surface\",\"colorbar\":{\"outlinewidth\":0,\"ticks\":\"\"},\"colorscale\":[[0.0,\"#0d0887\"],[0.1111111111111111,\"#46039f\"],[0.2222222222222222,\"#7201a8\"],[0.3333333333333333,\"#9c179e\"],[0.4444444444444444,\"#bd3786\"],[0.5555555555555556,\"#d8576b\"],[0.6666666666666666,\"#ed7953\"],[0.7777777777777778,\"#fb9f3a\"],[0.8888888888888888,\"#fdca26\"],[1.0,\"#f0f921\"]]}],\"mesh3d\":[{\"type\":\"mesh3d\",\"colorbar\":{\"outlinewidth\":0,\"ticks\":\"\"}}],\"scatter\":[{\"fillpattern\":{\"fillmode\":\"overlay\",\"size\":10,\"solidity\":0.2},\"type\":\"scatter\"}],\"parcoords\":[{\"type\":\"parcoords\",\"line\":{\"colorbar\":{\"outlinewidth\":0,\"ticks\":\"\"}}}],\"scatterpolargl\":[{\"type\":\"scatterpolargl\",\"marker\":{\"colorbar\":{\"outlinewidth\":0,\"ticks\":\"\"}}}],\"bar\":[{\"error_x\":{\"color\":\"#2a3f5f\"},\"error_y\":{\"color\":\"#2a3f5f\"},\"marker\":{\"line\":{\"color\":\"#E5ECF6\",\"width\":0.5},\"pattern\":{\"fillmode\":\"overlay\",\"size\":10,\"solidity\":0.2}},\"type\":\"bar\"}],\"scattergeo\":[{\"type\":\"scattergeo\",\"marker\":{\"colorbar\":{\"outlinewidth\":0,\"ticks\":\"\"}}}],\"scatterpolar\":[{\"type\":\"scatterpolar\",\"marker\":{\"colorbar\":{\"outlinewidth\":0,\"ticks\":\"\"}}}],\"histogram\":[{\"marker\":{\"pattern\":{\"fillmode\":\"overlay\",\"size\":10,\"solidity\":0.2}},\"type\":\"histogram\"}],\"scattergl\":[{\"type\":\"scattergl\",\"marker\":{\"colorbar\":{\"outlinewidth\":0,\"ticks\":\"\"}}}],\"scatter3d\":[{\"type\":\"scatter3d\",\"line\":{\"colorbar\":{\"outlinewidth\":0,\"ticks\":\"\"}},\"marker\":{\"colorbar\":{\"outlinewidth\":0,\"ticks\":\"\"}}}],\"scattermapbox\":[{\"type\":\"scattermapbox\",\"marker\":{\"colorbar\":{\"outlinewidth\":0,\"ticks\":\"\"}}}],\"scatterternary\":[{\"type\":\"scatterternary\",\"marker\":{\"colorbar\":{\"outlinewidth\":0,\"ticks\":\"\"}}}],\"scattercarpet\":[{\"type\":\"scattercarpet\",\"marker\":{\"colorbar\":{\"outlinewidth\":0,\"ticks\":\"\"}}}],\"carpet\":[{\"aaxis\":{\"endlinecolor\":\"#2a3f5f\",\"gridcolor\":\"white\",\"linecolor\":\"white\",\"minorgridcolor\":\"white\",\"startlinecolor\":\"#2a3f5f\"},\"baxis\":{\"endlinecolor\":\"#2a3f5f\",\"gridcolor\":\"white\",\"linecolor\":\"white\",\"minorgridcolor\":\"white\",\"startlinecolor\":\"#2a3f5f\"},\"type\":\"carpet\"}],\"table\":[{\"cells\":{\"fill\":{\"color\":\"#EBF0F8\"},\"line\":{\"color\":\"white\"}},\"header\":{\"fill\":{\"color\":\"#C8D4E3\"},\"line\":{\"color\":\"white\"}},\"type\":\"table\"}],\"barpolar\":[{\"marker\":{\"line\":{\"color\":\"#E5ECF6\",\"width\":0.5},\"pattern\":{\"fillmode\":\"overlay\",\"size\":10,\"solidity\":0.2}},\"type\":\"barpolar\"}],\"pie\":[{\"automargin\":true,\"type\":\"pie\"}]},\"layout\":{\"autotypenumbers\":\"strict\",\"colorway\":[\"#636efa\",\"#EF553B\",\"#00cc96\",\"#ab63fa\",\"#FFA15A\",\"#19d3f3\",\"#FF6692\",\"#B6E880\",\"#FF97FF\",\"#FECB52\"],\"font\":{\"color\":\"#2a3f5f\"},\"hovermode\":\"closest\",\"hoverlabel\":{\"align\":\"left\"},\"paper_bgcolor\":\"white\",\"plot_bgcolor\":\"#E5ECF6\",\"polar\":{\"bgcolor\":\"#E5ECF6\",\"angularaxis\":{\"gridcolor\":\"white\",\"linecolor\":\"white\",\"ticks\":\"\"},\"radialaxis\":{\"gridcolor\":\"white\",\"linecolor\":\"white\",\"ticks\":\"\"}},\"ternary\":{\"bgcolor\":\"#E5ECF6\",\"aaxis\":{\"gridcolor\":\"white\",\"linecolor\":\"white\",\"ticks\":\"\"},\"baxis\":{\"gridcolor\":\"white\",\"linecolor\":\"white\",\"ticks\":\"\"},\"caxis\":{\"gridcolor\":\"white\",\"linecolor\":\"white\",\"ticks\":\"\"}},\"coloraxis\":{\"colorbar\":{\"outlinewidth\":0,\"ticks\":\"\"}},\"colorscale\":{\"sequential\":[[0.0,\"#0d0887\"],[0.1111111111111111,\"#46039f\"],[0.2222222222222222,\"#7201a8\"],[0.3333333333333333,\"#9c179e\"],[0.4444444444444444,\"#bd3786\"],[0.5555555555555556,\"#d8576b\"],[0.6666666666666666,\"#ed7953\"],[0.7777777777777778,\"#fb9f3a\"],[0.8888888888888888,\"#fdca26\"],[1.0,\"#f0f921\"]],\"sequentialminus\":[[0.0,\"#0d0887\"],[0.1111111111111111,\"#46039f\"],[0.2222222222222222,\"#7201a8\"],[0.3333333333333333,\"#9c179e\"],[0.4444444444444444,\"#bd3786\"],[0.5555555555555556,\"#d8576b\"],[0.6666666666666666,\"#ed7953\"],[0.7777777777777778,\"#fb9f3a\"],[0.8888888888888888,\"#fdca26\"],[1.0,\"#f0f921\"]],\"diverging\":[[0,\"#8e0152\"],[0.1,\"#c51b7d\"],[0.2,\"#de77ae\"],[0.3,\"#f1b6da\"],[0.4,\"#fde0ef\"],[0.5,\"#f7f7f7\"],[0.6,\"#e6f5d0\"],[0.7,\"#b8e186\"],[0.8,\"#7fbc41\"],[0.9,\"#4d9221\"],[1,\"#276419\"]]},\"xaxis\":{\"gridcolor\":\"white\",\"linecolor\":\"white\",\"ticks\":\"\",\"title\":{\"standoff\":15},\"zerolinecolor\":\"white\",\"automargin\":true,\"zerolinewidth\":2},\"yaxis\":{\"gridcolor\":\"white\",\"linecolor\":\"white\",\"ticks\":\"\",\"title\":{\"standoff\":15},\"zerolinecolor\":\"white\",\"automargin\":true,\"zerolinewidth\":2},\"scene\":{\"xaxis\":{\"backgroundcolor\":\"#E5ECF6\",\"gridcolor\":\"white\",\"linecolor\":\"white\",\"showbackground\":true,\"ticks\":\"\",\"zerolinecolor\":\"white\",\"gridwidth\":2},\"yaxis\":{\"backgroundcolor\":\"#E5ECF6\",\"gridcolor\":\"white\",\"linecolor\":\"white\",\"showbackground\":true,\"ticks\":\"\",\"zerolinecolor\":\"white\",\"gridwidth\":2},\"zaxis\":{\"backgroundcolor\":\"#E5ECF6\",\"gridcolor\":\"white\",\"linecolor\":\"white\",\"showbackground\":true,\"ticks\":\"\",\"zerolinecolor\":\"white\",\"gridwidth\":2}},\"shapedefaults\":{\"line\":{\"color\":\"#2a3f5f\"}},\"annotationdefaults\":{\"arrowcolor\":\"#2a3f5f\",\"arrowhead\":0,\"arrowwidth\":1},\"geo\":{\"bgcolor\":\"white\",\"landcolor\":\"#E5ECF6\",\"subunitcolor\":\"white\",\"showland\":true,\"showlakes\":true,\"lakecolor\":\"white\"},\"title\":{\"x\":0.05},\"mapbox\":{\"style\":\"light\"}}},\"title\":{\"text\":\"Fit of SIR model for Germany cases\"},\"width\":900,\"height\":600,\"xaxis\":{\"title\":{\"text\":\"Days\"}},\"yaxis\":{\"title\":{\"text\":\"New Population infected\"},\"type\":\"log\"}},                        {\"responsive\": true}                    ).then(function(){\n",
       "                            \n",
       "var gd = document.getElementById('f49cf3e0-e3fa-4a52-b5d1-8185066e89a1');\n",
       "var x = new MutationObserver(function (mutations, observer) {{\n",
       "        var display = window.getComputedStyle(gd).display;\n",
       "        if (!display || display === 'none') {{\n",
       "            console.log([gd, 'removed!']);\n",
       "            Plotly.purge(gd);\n",
       "            observer.disconnect();\n",
       "        }}\n",
       "}});\n",
       "\n",
       "// Listen for the removal of the full notebook cells\n",
       "var notebookContainer = gd.closest('#notebook-container');\n",
       "if (notebookContainer) {{\n",
       "    x.observe(notebookContainer, {childList: true});\n",
       "}}\n",
       "\n",
       "// Listen for the clearing of the current output cell\n",
       "var outputEl = gd.closest('.output');\n",
       "if (outputEl) {{\n",
       "    x.observe(outputEl, {childList: true});\n",
       "}}\n",
       "\n",
       "                        })                };                });            </script>        </div>"
      ]
     },
     "metadata": {},
     "output_type": "display_data"
    }
   ],
   "source": [
    "import plotly.graph_objects as go\n",
    "import plotly\n",
    "fig=go.Figure()\n",
    "fig.add_trace(go.Scatter(x=df_germany['germany_x'],\n",
    "                        y=df_germany['germany_y'],\n",
    "                        mode='markers')\n",
    "             )\n",
    "fig.add_trace(go.Scatter(x=df_germany['germany_fit_x'],\n",
    "                        y=df_germany['germany_fit_y'],\n",
    "                        mode='lines')\n",
    "             ) \n",
    "fig.update_layout(\n",
    "title=\"Fit of SIR model for Germany cases\",\n",
    "width=900,\n",
    "height=600,\n",
    "xaxis_title=\"Days\",\n",
    "yaxis_title=\"New Population infected\",\n",
    "\n",
    ")\n",
    "fig.update_yaxes(type=\"log\")"
   ]
  },
  {
   "cell_type": "code",
   "execution_count": 369,
   "metadata": {},
   "outputs": [],
   "source": [
    "# df_original.to_csv('../data/processed/COVID_original_sir_table.csv',sep=';')"
   ]
  },
  {
   "cell_type": "code",
   "execution_count": 450,
   "metadata": {},
   "outputs": [],
   "source": [
    "df_original=pd.concat([df_india,df_japan,df_germany],axis=1)"
   ]
  },
  {
   "cell_type": "code",
   "execution_count": 457,
   "metadata": {},
   "outputs": [],
   "source": [
    "country_list=['india','japan','germany']\n",
    "app=dash.Dash()\n",
    "app.layout=html.Div([\n",
    "    \n",
    "     dcc.Markdown('''\n",
    "    #  Applied Data Science on COVID-19 data\n",
    "\n",
    "    Goal of this task is to use SIR model on COVID-19 data\n",
    "\n",
    "    '''),\n",
    "    html.Label('Multi-Select Country'),\n",
    "    dcc.Dropdown(\n",
    "    id='country_drop_down',\n",
    "    options=[\n",
    "        {'label':'india','value':'india'},\n",
    "        {'label':'germany','value':'germany'},\n",
    "        {'label':'japan','value':'japan'}\n",
    "    ],\n",
    "    value=['india'],\n",
    "    multi=True\n",
    "    ),\n",
    "    dcc.Markdown('''\n",
    "        ## SIR model\n",
    "        '''),\n",
    "    dcc.Graph(figure=fig,id='main_window_slope')\n",
    "])"
   ]
  },
  {
   "cell_type": "code",
   "execution_count": 458,
   "metadata": {
    "scrolled": true
   },
   "outputs": [
    {
     "name": "stdout",
     "output_type": "stream",
     "text": [
      "Dash is running on http://127.0.0.1:8050/\n",
      "\n",
      "Dash is running on http://127.0.0.1:8050/\n",
      "\n",
      "Dash is running on http://127.0.0.1:8050/\n",
      "\n",
      "Dash is running on http://127.0.0.1:8050/\n",
      "\n",
      "Dash is running on http://127.0.0.1:8050/\n",
      "\n",
      "Dash is running on http://127.0.0.1:8050/\n",
      "\n",
      "Dash is running on http://127.0.0.1:8050/\n",
      "\n",
      "Dash is running on http://127.0.0.1:8050/\n",
      "\n",
      "Dash is running on http://127.0.0.1:8050/\n",
      "\n",
      "Dash is running on http://127.0.0.1:8050/\n",
      "\n",
      " * Serving Flask app \"__main__\" (lazy loading)\n",
      " * Environment: production\n",
      "   WARNING: This is a development server. Do not use it in a production deployment.\n",
      "   Use a production WSGI server instead.\n",
      " * Debug mode: on\n"
     ]
    }
   ],
   "source": [
    "from dash.dependencies import Input,Output\n",
    "@app.callback(\n",
    "    Output('main_window_slope','figure'),\n",
    "    [Input('country_drop_down','value')])\n",
    "def update_figure(country_list):\n",
    "    traces=[]\n",
    "    for each in country_list:\n",
    "        traces.append(dict(x=df_original[each+'_x'],\n",
    "                            y=df_original[each+'_y'],\n",
    "                            mode='markers',\n",
    "                            opacity=0.8,\n",
    "                            name=each\n",
    "                          ))\n",
    "\n",
    "    for each in country_list:\n",
    "        traces.append(dict(x=df_original[each+'_fit_x'],\n",
    "                            y=df_original[each+'_fit_y'],\n",
    "                            mode='lines',\n",
    "                           name=each\n",
    "                          ))\n",
    "        \n",
    "    return{\n",
    "        'data':traces,\n",
    "        'layout':dict(\n",
    "             width=1280,\n",
    "             height=720,\n",
    "#             xaxis_title=\"Days\",\n",
    "#             yaxis_title=\"New Population infected\",\n",
    "            xaxis={'title':'Days',\n",
    "                    'tickangle':-45,\n",
    "                   'nticks':20,\n",
    "                   'tickfont':dict(size=14,color=\"#7f7f7f\"),\n",
    "            },\n",
    "            yaxis={'type':'log',\n",
    "                   'range':'[1.1,5.5]',\n",
    "                   'title':'New Population infected',\n",
    "                   \n",
    "                \n",
    "            }\n",
    "        )\n",
    "    }\n",
    "if __name__ == '__main__':\n",
    "    app.run_server(debug=True,use_reloader=False)"
   ]
  },
  {
   "cell_type": "code",
   "execution_count": null,
   "metadata": {},
   "outputs": [],
   "source": []
  },
  {
   "cell_type": "code",
   "execution_count": null,
   "metadata": {},
   "outputs": [],
   "source": []
  },
  {
   "cell_type": "code",
   "execution_count": null,
   "metadata": {},
   "outputs": [],
   "source": []
  },
  {
   "cell_type": "code",
   "execution_count": null,
   "metadata": {},
   "outputs": [],
   "source": []
  },
  {
   "cell_type": "code",
   "execution_count": null,
   "metadata": {},
   "outputs": [],
   "source": []
  },
  {
   "cell_type": "code",
   "execution_count": null,
   "metadata": {},
   "outputs": [],
   "source": []
  },
  {
   "cell_type": "code",
   "execution_count": null,
   "metadata": {},
   "outputs": [],
   "source": []
  },
  {
   "cell_type": "code",
   "execution_count": null,
   "metadata": {},
   "outputs": [],
   "source": []
  },
  {
   "cell_type": "code",
   "execution_count": null,
   "metadata": {},
   "outputs": [],
   "source": []
  },
  {
   "cell_type": "code",
   "execution_count": null,
   "metadata": {},
   "outputs": [],
   "source": []
  },
  {
   "cell_type": "code",
   "execution_count": null,
   "metadata": {},
   "outputs": [],
   "source": []
  },
  {
   "cell_type": "code",
   "execution_count": null,
   "metadata": {},
   "outputs": [],
   "source": []
  },
  {
   "cell_type": "code",
   "execution_count": null,
   "metadata": {},
   "outputs": [],
   "source": []
  },
  {
   "cell_type": "code",
   "execution_count": null,
   "metadata": {},
   "outputs": [],
   "source": []
  },
  {
   "cell_type": "code",
   "execution_count": null,
   "metadata": {},
   "outputs": [],
   "source": []
  },
  {
   "cell_type": "code",
   "execution_count": null,
   "metadata": {},
   "outputs": [],
   "source": []
  },
  {
   "cell_type": "code",
   "execution_count": null,
   "metadata": {},
   "outputs": [],
   "source": []
  },
  {
   "cell_type": "code",
   "execution_count": null,
   "metadata": {},
   "outputs": [],
   "source": []
  },
  {
   "cell_type": "code",
   "execution_count": null,
   "metadata": {},
   "outputs": [],
   "source": []
  },
  {
   "cell_type": "code",
   "execution_count": null,
   "metadata": {},
   "outputs": [],
   "source": []
  },
  {
   "cell_type": "code",
   "execution_count": null,
   "metadata": {},
   "outputs": [],
   "source": []
  },
  {
   "cell_type": "code",
   "execution_count": null,
   "metadata": {},
   "outputs": [],
   "source": []
  },
  {
   "cell_type": "code",
   "execution_count": null,
   "metadata": {},
   "outputs": [],
   "source": []
  },
  {
   "cell_type": "code",
   "execution_count": null,
   "metadata": {},
   "outputs": [],
   "source": []
  },
  {
   "cell_type": "code",
   "execution_count": null,
   "metadata": {},
   "outputs": [],
   "source": []
  },
  {
   "cell_type": "code",
   "execution_count": null,
   "metadata": {},
   "outputs": [],
   "source": []
  },
  {
   "cell_type": "code",
   "execution_count": null,
   "metadata": {},
   "outputs": [],
   "source": []
  },
  {
   "cell_type": "code",
   "execution_count": null,
   "metadata": {},
   "outputs": [],
   "source": []
  },
  {
   "cell_type": "code",
   "execution_count": null,
   "metadata": {},
   "outputs": [],
   "source": []
  },
  {
   "cell_type": "code",
   "execution_count": null,
   "metadata": {},
   "outputs": [],
   "source": []
  }
 ],
 "metadata": {
  "kernelspec": {
   "display_name": "Python 3",
   "language": "python",
   "name": "python3"
  },
  "language_info": {
   "codemirror_mode": {
    "name": "ipython",
    "version": 3
   },
   "file_extension": ".py",
   "mimetype": "text/x-python",
   "name": "python",
   "nbconvert_exporter": "python",
   "pygments_lexer": "ipython3",
   "version": "3.8.5"
  }
 },
 "nbformat": 4,
 "nbformat_minor": 2
}
